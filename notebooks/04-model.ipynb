{
 "cells": [
  {
   "cell_type": "markdown",
   "id": "83045d84",
   "metadata": {},
   "source": [
    "# Imports"
   ]
  },
  {
   "cell_type": "code",
   "execution_count": 1,
   "id": "b4d2cada",
   "metadata": {},
   "outputs": [
    {
     "name": "stderr",
     "output_type": "stream",
     "text": [
      "/Users/cristian/Documents/GitHub/adeslas-interview/.venv/lib/python3.13/site-packages/scorecardpy/germancredit.py:5: UserWarning: pkg_resources is deprecated as an API. See https://setuptools.pypa.io/en/latest/pkg_resources.html. The pkg_resources package is slated for removal as early as 2025-11-30. Refrain from using this package or pin to Setuptools<81.\n",
      "  import pkg_resources\n"
     ]
    }
   ],
   "source": [
    "#Importar librerías necesarias para desarrollar el análisis\n",
    "import importlib\n",
    "import warnings\n",
    "\n",
    "import pandas as pd\n",
    "import numpy as np\n",
    "import sklearn \n",
    "from sklearn.metrics import mean_squared_error, auc, log_loss, roc_auc_score, accuracy_score, confusion_matrix, classification_report, f1_score, recall_score, precision_score, make_scorer\n",
    "import random as python_random\n",
    "import seaborn as sns\n",
    "import matplotlib\n",
    "import matplotlib.pyplot as plt\n",
    "import scipy\n",
    "from scipy.stats import ks_2samp\n",
    "import scorecardpy as sc\n",
    "#import openpyxl\n",
    "\n",
    "from sklearn.preprocessing import MinMaxScaler, StandardScaler, Normalizer, Binarizer, RobustScaler\n",
    "from sklearn.compose import ColumnTransformer\n",
    "from sklearn.preprocessing import OneHotEncoder, LabelEncoder, PowerTransformer\n",
    "from sklearn.impute import SimpleImputer, KNNImputer\n",
    "\n",
    "from sklearn.feature_selection import SelectKBest, chi2, RFE, mutual_info_classif\n",
    "from sklearn.model_selection import train_test_split \n",
    "from sklearn.pipeline import make_pipeline, Pipeline \n",
    "from sklearn.decomposition import PCA\n",
    "\n",
    "from sklearn.linear_model import LogisticRegression \n",
    "from sklearn.tree import DecisionTreeClassifier, plot_tree, export_text, DecisionTreeRegressor\n",
    "from sklearn.neighbors import KNeighborsClassifier\n",
    "from sklearn.discriminant_analysis import LinearDiscriminantAnalysis\n",
    "from sklearn.naive_bayes import GaussianNB\n",
    "from sklearn.ensemble import RandomForestClassifier, ExtraTreesClassifier, BaggingClassifier, GradientBoostingClassifier, StackingClassifier\n",
    "from sklearn.svm import SVC\n",
    "\n",
    "from sklearn.metrics import roc_curve, auc, log_loss, roc_auc_score, accuracy_score, confusion_matrix, classification_report, f1_score, recall_score, precision_score, make_scorer\n",
    "\n",
    "from sklearn.model_selection import KFold, ShuffleSplit, LeaveOneOut, StratifiedKFold\n",
    "from sklearn.model_selection import cross_val_score, cross_val_predict\n",
    "from sklearn.model_selection import GridSearchCV, RandomizedSearchCV \n",
    "\n",
    "from xgboost import XGBClassifier\n",
    "from xgboost import XGBRegressor\n",
    "import xgboost\n",
    "\n",
    "import sys\n",
    "import notebook\n",
    "import jupyterlab\n",
    "\n",
    "import os\n",
    "from pathlib import Path"
   ]
  },
  {
   "cell_type": "code",
   "execution_count": 2,
   "id": "8d9bd0ee",
   "metadata": {},
   "outputs": [],
   "source": [
    "from dotenv import load_dotenv, find_dotenv\n",
    "# Carga el .env más cercano hacia arriba en el árbol\n",
    "load_dotenv(find_dotenv())\n",
    "\n",
    "# Raíz del proyecto = carpeta que contiene el .env\n",
    "PROJECT_ROOT = Path(find_dotenv()).parent\n",
    "\n",
    "# DATA_PATH puede ser relativo (./data) o absoluto; aquí lo resolvemos desde el root\n",
    "DATA_PATH = (PROJECT_ROOT / os.environ.get(\"DATA_PATH\", \"data\")).resolve()"
   ]
  },
  {
   "cell_type": "code",
   "execution_count": 3,
   "id": "4f138c5f",
   "metadata": {},
   "outputs": [
    {
     "name": "stdout",
     "output_type": "stream",
     "text": [
      "/Users/cristian/Documents/GitHub/adeslas-interview/.venv/bin/python\n",
      "3.13.7\n"
     ]
    }
   ],
   "source": [
    "import sys, platform\n",
    "print(sys.executable)\n",
    "print(platform.python_version())"
   ]
  },
  {
   "cell_type": "code",
   "execution_count": 4,
   "id": "51fadd8e",
   "metadata": {},
   "outputs": [],
   "source": [
    "pd.set_option(\"display.max_columns\", None)   # muestra todas las columnas\n",
    "pd.set_option(\"display.width\", 0)            # usa el ancho de la celda de Jupyter\n",
    "pd.set_option(\"display.max_colwidth\", None)  # no truncar el contenido de celdas"
   ]
  },
  {
   "cell_type": "markdown",
   "id": "378963b7",
   "metadata": {},
   "source": [
    "# Env"
   ]
  },
  {
   "cell_type": "code",
   "execution_count": 5,
   "id": "391d8367",
   "metadata": {},
   "outputs": [
    {
     "name": "stdout",
     "output_type": "stream",
     "text": [
      "Añadido a sys.path: /Users/cristian/Documents/GitHub/adeslas-interview/src\n"
     ]
    }
   ],
   "source": [
    "PROJ_ROOT = Path.cwd().parent \n",
    "sys.path.insert(0, str(PROJ_ROOT / \"src\"))\n",
    "\n",
    "\n",
    "# Verifica\n",
    "print(\"Añadido a sys.path:\", sys.path[0])\n",
    "\n",
    "from utils import feature_selection as fs"
   ]
  },
  {
   "cell_type": "markdown",
   "id": "116a24ff",
   "metadata": {},
   "source": [
    "# Funciones"
   ]
  },
  {
   "cell_type": "code",
   "execution_count": null,
   "id": "79dbced3",
   "metadata": {},
   "outputs": [],
   "source": []
  },
  {
   "cell_type": "markdown",
   "id": "39aed2a1",
   "metadata": {},
   "source": [
    "# Load data"
   ]
  },
  {
   "cell_type": "code",
   "execution_count": 6,
   "id": "064aa121",
   "metadata": {},
   "outputs": [],
   "source": [
    "DATA_PATH = Path(os.environ[\"DATA_PATH\"])"
   ]
  },
  {
   "cell_type": "code",
   "execution_count": 7,
   "id": "3738108d",
   "metadata": {},
   "outputs": [
    {
     "name": "stdout",
     "output_type": "stream",
     "text": [
      "(47547, 420)\n",
      "(28528, 418)\n",
      "(9510, 418)\n",
      "(9509, 418)\n",
      "28528\n",
      "9510\n",
      "9509\n",
      "20\n"
     ]
    }
   ],
   "source": [
    "file_tab = DATA_PATH / \"df_muestra_vars_eng.csv\"\n",
    "df_muestra_vars_eng = pd.read_csv(file_tab)\n",
    "print(df_muestra_vars_eng.shape)\n",
    "\n",
    "\n",
    "\n",
    "file_tab = DATA_PATH / \"X_train.csv\"\n",
    "X_train = pd.read_csv(file_tab)\n",
    "print(X_train.shape)\n",
    "\n",
    "file_tab = DATA_PATH / \"X_val.csv\"\n",
    "X_val = pd.read_csv(file_tab)\n",
    "print(X_val.shape)\n",
    "\n",
    "file_tab = DATA_PATH / \"X_test.csv\"\n",
    "X_test = pd.read_csv(file_tab)\n",
    "print(X_test.shape)\n",
    "\n",
    "\n",
    "\n",
    "file_tab = DATA_PATH / \"y_train.csv\"\n",
    "y_train = pd.read_csv(file_tab)\n",
    "print(len(y_train))\n",
    "\n",
    "\n",
    "file_tab = DATA_PATH / \"y_val.csv\"\n",
    "y_val = pd.read_csv(file_tab)\n",
    "print(len(y_val))\n",
    "\n",
    "\n",
    "file_tab = DATA_PATH / \"y_test.csv\"\n",
    "y_test = pd.read_csv(file_tab)\n",
    "print(len(y_test))\n",
    "\n",
    "\n",
    "selected_vars = pd.read_csv(DATA_PATH / \"selected_vars.csv\")[\"feature\"].astype(str).tolist()\n",
    "print(len(selected_vars))"
   ]
  },
  {
   "cell_type": "markdown",
   "id": "106b24ad",
   "metadata": {},
   "source": [
    "# Model"
   ]
  },
  {
   "cell_type": "markdown",
   "id": "f7ad71d2",
   "metadata": {},
   "source": [
    "## XGBoost con parametros estandar"
   ]
  },
  {
   "cell_type": "code",
   "execution_count": 8,
   "id": "08f088d4",
   "metadata": {},
   "outputs": [
    {
     "name": "stdout",
     "output_type": "stream",
     "text": [
      "Best iteration: 2\n",
      "n_estimators efectivos: 3\n"
     ]
    },
    {
     "data": {
      "text/html": [
       "<div>\n",
       "<style scoped>\n",
       "    .dataframe tbody tr th:only-of-type {\n",
       "        vertical-align: middle;\n",
       "    }\n",
       "\n",
       "    .dataframe tbody tr th {\n",
       "        vertical-align: top;\n",
       "    }\n",
       "\n",
       "    .dataframe thead th {\n",
       "        text-align: right;\n",
       "    }\n",
       "</style>\n",
       "<table border=\"1\" class=\"dataframe\">\n",
       "  <thead>\n",
       "    <tr style=\"text-align: right;\">\n",
       "      <th></th>\n",
       "      <th>auc</th>\n",
       "      <th>ks</th>\n",
       "      <th>prauc</th>\n",
       "      <th>n</th>\n",
       "    </tr>\n",
       "    <tr>\n",
       "      <th>split</th>\n",
       "      <th></th>\n",
       "      <th></th>\n",
       "      <th></th>\n",
       "      <th></th>\n",
       "    </tr>\n",
       "  </thead>\n",
       "  <tbody>\n",
       "    <tr>\n",
       "      <th>train</th>\n",
       "      <td>0.816360</td>\n",
       "      <td>0.484141</td>\n",
       "      <td>0.160692</td>\n",
       "      <td>28528</td>\n",
       "    </tr>\n",
       "    <tr>\n",
       "      <th>val</th>\n",
       "      <td>0.674062</td>\n",
       "      <td>0.268752</td>\n",
       "      <td>0.093998</td>\n",
       "      <td>9510</td>\n",
       "    </tr>\n",
       "  </tbody>\n",
       "</table>\n",
       "</div>"
      ],
      "text/plain": [
       "            auc        ks     prauc      n\n",
       "split                                     \n",
       "train  0.816360  0.484141  0.160692  28528\n",
       "val    0.674062  0.268752  0.093998   9510"
      ]
     },
     "metadata": {},
     "output_type": "display_data"
    }
   ],
   "source": [
    "\n",
    "\n",
    "# =========================\n",
    "# Entrenamiento\n",
    "# =========================\n",
    "from utils.model_training import (\n",
    "    train_xgb_binary,\n",
    "    evaluate_model,\n",
    "    save_artifacts,\n",
    "    default_xgb_params,\n",
    ")\n",
    "\n",
    "# (Opcional) ajustar algunos hiperparámetros base\n",
    "params = default_xgb_params() | dict(\n",
    "    max_depth=6,\n",
    "    learning_rate=0.05,\n",
    "    subsample=0.8,\n",
    "    colsample_bytree=0.8,\n",
    "    reg_lambda=1.0,\n",
    ")\n",
    "\n",
    "results = train_xgb_binary(\n",
    "    X_train=X_train,\n",
    "    y_train=y_train,\n",
    "    X_val=X_val,\n",
    "    y_val=y_val,\n",
    "    selected_vars=selected_vars,\n",
    "    xgb_params=params,\n",
    "    early_stopping_rounds=100,\n",
    ")\n",
    "\n",
    "print(\"Best iteration:\", results.best_iteration)\n",
    "print(\"n_estimators efectivos:\", results.best_n_estimators)\n",
    "display(results.metrics)\n",
    "\n"
   ]
  },
  {
   "cell_type": "code",
   "execution_count": null,
   "id": "2ec01fcc",
   "metadata": {},
   "outputs": [],
   "source": []
  },
  {
   "cell_type": "code",
   "execution_count": null,
   "id": "175df593",
   "metadata": {},
   "outputs": [],
   "source": [
    "\n",
    "# =========================\n",
    "# Evaluación en Test\n",
    "# =========================\n",
    "from utils.model_training import to_1d_series\n",
    "\n",
    "X_te = X_test[[c for c in selected_vars if c in X_test.columns]].copy()\n",
    "y_te = to_1d_series(y_test)\n",
    "\n",
    "eval_test = evaluate_model(results.model, splits={\"test\": (X_te, y_te)})\n",
    "print(\"\\nMétricas test:\")\n",
    "display(eval_test)\n",
    "\n"
   ]
  },
  {
   "cell_type": "code",
   "execution_count": null,
   "id": "8a1a397d",
   "metadata": {},
   "outputs": [],
   "source": [
    "# =========================\n",
    "# Guardado de artefactos\n",
    "# =========================\n",
    "#ARTIF_PATH = DATA_PATH / \"models\"\n",
    "#model_path, feats_path = save_artifacts(results, ARTIF_PATH)\n",
    "#print(f\"Modelo guardado en: {model_path}\")\n",
    "#print(f\"Features usadas guardadas en: {feats_path}\")\n"
   ]
  }
 ],
 "metadata": {
  "kernelspec": {
   "display_name": "adeslas-interview",
   "language": "python",
   "name": "python3"
  },
  "language_info": {
   "codemirror_mode": {
    "name": "ipython",
    "version": 3
   },
   "file_extension": ".py",
   "mimetype": "text/x-python",
   "name": "python",
   "nbconvert_exporter": "python",
   "pygments_lexer": "ipython3",
   "version": "3.13.7"
  }
 },
 "nbformat": 4,
 "nbformat_minor": 5
}
